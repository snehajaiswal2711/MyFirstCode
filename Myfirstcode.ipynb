{
 "cells": [
  {
   "cell_type": "code",
   "execution_count": 1,
   "metadata": {},
   "outputs": [
    {
     "name": "stdout",
     "output_type": "stream",
     "text": [
      "Group name?!\n",
      "PS3\n",
      "Enter years?\n",
      "18\n",
      "Their friendship is: 18 years\n",
      "Members:\n",
      "4\n",
      "Sejal Piyush Sneha Shivam\n",
      "Name for Birthday?:\n",
      "Sejal\n",
      "11 May 1997 is her Birthday\n",
      "Name for Birthday?:\n",
      "Piyush\n",
      "26 October 1997 is his Birthday\n",
      "Name for Birthday?:\n",
      "shivam\n",
      "I forgot his Birthday again! XD\n"
     ]
    }
   ],
   "source": [
    "name = input('Group name?!\\n')\n",
    "type(name)\n",
    "years = int(input(\"Enter years?\\n\"))\n",
    "print('Their friendship is:',years,'years')\n",
    "type(years)\n",
    "name = input('Members:\\n')\n",
    "print('Sejal','Piyush','Sneha','Shivam')\n",
    "type(name)\n",
    "Name = input('Name for Birthday?:\\n')\n",
    "if (Name == 'Sejal'):\n",
    "    print(11, 'May', 1997,'is her Birthday')\n",
    "elif (Name == 'Piyush'):\n",
    "    print(26 ,'October', 1997,'is his Birthday')\n",
    "else :\n",
    "    print(\"I forgot his Birthday again!\")\n",
    "Name = input('Name for Birthday?:\\n')\n",
    "if (Name == 'Sejal'):\n",
    "    print(11, 'May', 1997,'is her Birthday')\n",
    "elif (Name == 'Piyush'):\n",
    "    print(26 ,'October', 1997,'is his Birthday')\n",
    "else :\n",
    "    print(\"I forgot his Birthday again! XD\")\n",
    "Name = input('Name for Birthday?:\\n')\n",
    "if (Name == 'Sejal'):\n",
    "    print(11, 'May', 1997,'is her Birthday')\n",
    "elif (Name == 'Piyush'):\n",
    "    print(26 ,'October', 1997,'is his Birthday')\n",
    "else :\n",
    "    print(\"I forgot his Birthday again! XD\")"
   ]
  },
  {
   "cell_type": "code",
   "execution_count": null,
   "metadata": {},
   "outputs": [],
   "source": []
  }
 ],
 "metadata": {
  "kernelspec": {
   "display_name": "Python 3",
   "language": "python",
   "name": "python3"
  },
  "language_info": {
   "codemirror_mode": {
    "name": "ipython",
    "version": 3
   },
   "file_extension": ".py",
   "mimetype": "text/x-python",
   "name": "python",
   "nbconvert_exporter": "python",
   "pygments_lexer": "ipython3",
   "version": "3.8.3"
  }
 },
 "nbformat": 4,
 "nbformat_minor": 4
}
